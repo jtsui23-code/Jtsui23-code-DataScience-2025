{
  "cells": [
    {
      "cell_type": "markdown",
      "metadata": {
        "id": "view-in-github",
        "colab_type": "text"
      },
      "source": [
        "<a href=\"https://colab.research.google.com/github/jtsui23-code/Jtsui23-code-DataScience-2025/blob/main/Completed/05-Foundations/01-magic_commands.ipynb\" target=\"_parent\"><img src=\"https://colab.research.google.com/assets/colab-badge.svg\" alt=\"Open In Colab\"/></a>"
      ]
    },
    {
      "cell_type": "markdown",
      "metadata": {
        "id": "O3INZjK1UPGm"
      },
      "source": [
        "# 🧙 Magic Commands Demo Notebook\n",
        "\n",
        "This notebook introduces some of the most useful **IPython magic commands** in Jupyter.  \n",
        "Run each cell and see what happens!"
      ],
      "id": "O3INZjK1UPGm"
    },
    {
      "cell_type": "markdown",
      "metadata": {
        "id": "o1WANU2YUPGn"
      },
      "source": [
        "## 1. Timing and Performance"
      ],
      "id": "o1WANU2YUPGn"
    },
    {
      "cell_type": "code",
      "execution_count": 1,
      "metadata": {
        "id": "2bQm64J_UPGo",
        "outputId": "320266bd-9a73-4958-f9c8-555084d559d0",
        "colab": {
          "base_uri": "https://localhost:8080/"
        }
      },
      "outputs": [
        {
          "output_type": "stream",
          "name": "stdout",
          "text": [
            "CPU times: user 25.9 ms, sys: 0 ns, total: 25.9 ms\n",
            "Wall time: 25.9 ms\n"
          ]
        },
        {
          "output_type": "execute_result",
          "data": {
            "text/plain": [
              "499999500000"
            ]
          },
          "metadata": {},
          "execution_count": 1
        }
      ],
      "source": [
        "%time sum(range(1_000_000))"
      ],
      "id": "2bQm64J_UPGo"
    },
    {
      "cell_type": "code",
      "execution_count": 3,
      "metadata": {
        "id": "4tnBJWZFUPGo",
        "outputId": "7793c23a-e955-409c-fcd3-7e15f311d7f7",
        "colab": {
          "base_uri": "https://localhost:8080/"
        }
      },
      "outputs": [
        {
          "output_type": "stream",
          "name": "stdout",
          "text": [
            "25.1 ms ± 657 µs per loop (mean ± std. dev. of 7 runs, 10 loops each)\n"
          ]
        }
      ],
      "source": [
        "%timeit sum(range(1_000_000))"
      ],
      "id": "4tnBJWZFUPGo"
    },
    {
      "cell_type": "code",
      "execution_count": 4,
      "metadata": {
        "id": "JEc32zbcUPGo",
        "outputId": "c82ad391-9288-4691-9a27-bc608f7f4ee7",
        "colab": {
          "base_uri": "https://localhost:8080/"
        }
      },
      "outputs": [
        {
          "output_type": "stream",
          "name": "stdout",
          "text": [
            "CPU times: user 210 ms, sys: 1.89 ms, total: 212 ms\n",
            "Wall time: 227 ms\n"
          ]
        }
      ],
      "source": [
        "%%time\n",
        "total = 0\n",
        "for i in range(1_000_000):\n",
        "    total += i"
      ],
      "id": "JEc32zbcUPGo"
    },
    {
      "cell_type": "markdown",
      "metadata": {
        "id": "lTf67U0rUPGp"
      },
      "source": [
        "## 2. Working with Files"
      ],
      "id": "lTf67U0rUPGp"
    },
    {
      "cell_type": "code",
      "execution_count": 6,
      "metadata": {
        "id": "sjSJ6eSJUPGp",
        "outputId": "67cc45bc-d11f-4bb9-9fa1-156a9228835d",
        "colab": {
          "base_uri": "https://localhost:8080/",
          "height": 35
        }
      },
      "outputs": [
        {
          "output_type": "execute_result",
          "data": {
            "text/plain": [
              "'/content'"
            ],
            "application/vnd.google.colaboratory.intrinsic+json": {
              "type": "string"
            }
          },
          "metadata": {},
          "execution_count": 6
        }
      ],
      "source": [
        "%pwd"
      ],
      "id": "sjSJ6eSJUPGp"
    },
    {
      "cell_type": "code",
      "execution_count": 7,
      "metadata": {
        "id": "b38m3i4MUPGp",
        "outputId": "83243fe4-6bb3-4bee-d55d-26b4c16c9b6e",
        "colab": {
          "base_uri": "https://localhost:8080/"
        }
      },
      "outputs": [
        {
          "output_type": "stream",
          "name": "stdout",
          "text": [
            "\u001b[0m\u001b[01;34msample_data\u001b[0m/\n"
          ]
        }
      ],
      "source": [
        "%ls"
      ],
      "id": "b38m3i4MUPGp"
    },
    {
      "cell_type": "code",
      "execution_count": 8,
      "metadata": {
        "id": "ZM6iCbsrUPGq",
        "outputId": "72b34cb2-1204-4c3f-8b25-5a5c159ba1e6",
        "colab": {
          "base_uri": "https://localhost:8080/",
          "height": 54
        }
      },
      "outputs": [
        {
          "output_type": "stream",
          "name": "stdout",
          "text": [
            "/\n"
          ]
        },
        {
          "output_type": "execute_result",
          "data": {
            "text/plain": [
              "'/'"
            ],
            "application/vnd.google.colaboratory.intrinsic+json": {
              "type": "string"
            }
          },
          "metadata": {},
          "execution_count": 8
        }
      ],
      "source": [
        "%cd ..\n",
        "%pwd"
      ],
      "id": "ZM6iCbsrUPGq"
    },
    {
      "cell_type": "markdown",
      "metadata": {
        "id": "UMQ4qnDOUPGq"
      },
      "source": [
        "## 3. Variables in Memory"
      ],
      "id": "UMQ4qnDOUPGq"
    },
    {
      "cell_type": "code",
      "execution_count": 9,
      "metadata": {
        "id": "EygJyG9GUPGq",
        "outputId": "acafea61-20ee-4c6f-e95c-2f2b92549b6f",
        "colab": {
          "base_uri": "https://localhost:8080/"
        }
      },
      "outputs": [
        {
          "output_type": "stream",
          "name": "stdout",
          "text": [
            "a\t b\t c\t i\t total\t \n"
          ]
        }
      ],
      "source": [
        "a = 42\n",
        "b = [1, 2, 3]\n",
        "c = {\"name\": \"Graylian\"}\n",
        "\n",
        "%who"
      ],
      "id": "EygJyG9GUPGq"
    },
    {
      "cell_type": "code",
      "execution_count": 11,
      "metadata": {
        "id": "cx_IJZb-UPGq",
        "outputId": "9cc575ba-fb4f-4d09-b60a-4b7cddfa8c9a",
        "colab": {
          "base_uri": "https://localhost:8080/"
        }
      },
      "outputs": [
        {
          "output_type": "stream",
          "name": "stdout",
          "text": [
            "Variable   Type    Data/Info\n",
            "----------------------------\n",
            "a          int     42\n",
            "b          list    n=3\n",
            "c          dict    n=1\n",
            "i          int     999999\n",
            "total      int     499999500000\n"
          ]
        }
      ],
      "source": [
        "%whos"
      ],
      "id": "cx_IJZb-UPGq"
    },
    {
      "cell_type": "code",
      "execution_count": null,
      "metadata": {
        "id": "FUblvoeCUPGq"
      },
      "outputs": [],
      "source": [
        "# %reset"
      ],
      "id": "FUblvoeCUPGq"
    },
    {
      "cell_type": "markdown",
      "metadata": {
        "id": "TVs5pjYLUPGr"
      },
      "source": [
        "## 4. Debugging and Introspection"
      ],
      "id": "TVs5pjYLUPGr"
    },
    {
      "cell_type": "code",
      "execution_count": 12,
      "metadata": {
        "id": "8r0nCBywUPGr",
        "outputId": "c4884ac4-6284-43cb-ea8e-aaab05b56ccc",
        "colab": {
          "base_uri": "https://localhost:8080/",
          "height": 146
        }
      },
      "outputs": [
        {
          "output_type": "error",
          "ename": "ZeroDivisionError",
          "evalue": "division by zero",
          "traceback": [
            "\u001b[0;31m---------------------------------------------------------------------------\u001b[0m",
            "\u001b[0;31mZeroDivisionError\u001b[0m                         Traceback (most recent call last)",
            "\u001b[0;32m/tmp/ipython-input-1455669704.py\u001b[0m in \u001b[0;36m<cell line: 0>\u001b[0;34m()\u001b[0m\n\u001b[0;32m----> 1\u001b[0;31m \u001b[0;36m1\u001b[0m \u001b[0;34m/\u001b[0m \u001b[0;36m0\u001b[0m\u001b[0;34m\u001b[0m\u001b[0;34m\u001b[0m\u001b[0m\n\u001b[0m",
            "\u001b[0;31mZeroDivisionError\u001b[0m: division by zero"
          ]
        }
      ],
      "source": [
        "1 / 0"
      ],
      "id": "8r0nCBywUPGr"
    },
    {
      "cell_type": "code",
      "execution_count": 13,
      "metadata": {
        "id": "wKmbR68vUPGr",
        "outputId": "02f2bad9-cfdd-45a5-cb0f-af62aed106d0",
        "colab": {
          "base_uri": "https://localhost:8080/"
        }
      },
      "outputs": [
        {
          "output_type": "stream",
          "name": "stdout",
          "text": [
            "> \u001b[0;32m/tmp/ipython-input-1455669704.py\u001b[0m(1)\u001b[0;36m<cell line: 0>\u001b[0;34m()\u001b[0m\n",
            "\u001b[0;32m----> 1 \u001b[0;31m\u001b[0;36m1\u001b[0m \u001b[0;34m/\u001b[0m \u001b[0;36m0\u001b[0m\u001b[0;34m\u001b[0m\u001b[0;34m\u001b[0m\u001b[0m\n",
            "\u001b[0m\n",
            "ipdb> 1/0\n",
            "*** ZeroDivisionError: division by zero\n",
            "--KeyboardInterrupt--\n",
            "\n",
            "KeyboardInterrupt: Interrupted by user\n"
          ]
        }
      ],
      "source": [
        "%debug"
      ],
      "id": "wKmbR68vUPGr"
    },
    {
      "cell_type": "markdown",
      "metadata": {
        "id": "JIVCasfFUPGr"
      },
      "source": [
        "## 5. Writing and Running Files"
      ],
      "id": "JIVCasfFUPGr"
    },
    {
      "cell_type": "code",
      "execution_count": 16,
      "metadata": {
        "id": "LqD9M98VUPGr",
        "outputId": "324b8556-a62f-4fbb-dfb4-00b3f48f97ce",
        "colab": {
          "base_uri": "https://localhost:8080/"
        }
      },
      "outputs": [
        {
          "output_type": "stream",
          "name": "stdout",
          "text": [
            "Overwriting hello.py\n"
          ]
        }
      ],
      "source": [
        "%%writefile hello.py\n",
        "print(\"Hello from a file!\")"
      ],
      "id": "LqD9M98VUPGr"
    },
    {
      "cell_type": "code",
      "execution_count": 17,
      "metadata": {
        "id": "9wfncNF2UPGr",
        "outputId": "90a155ec-df45-4f88-842d-336cfc9d6637",
        "colab": {
          "base_uri": "https://localhost:8080/"
        }
      },
      "outputs": [
        {
          "output_type": "stream",
          "name": "stdout",
          "text": [
            "Hello from a file!\n"
          ]
        }
      ],
      "source": [
        "%run hello.py"
      ],
      "id": "9wfncNF2UPGr"
    },
    {
      "cell_type": "markdown",
      "metadata": {
        "id": "vs1TP8YcUPGr"
      },
      "source": [
        "## 6. Output and Formatting"
      ],
      "id": "vs1TP8YcUPGr"
    },
    {
      "cell_type": "code",
      "execution_count": 20,
      "metadata": {
        "id": "Mx48nFiSUPGs"
      },
      "outputs": [],
      "source": [
        "%%capture cap\n",
        "print(\"This will not display right away\")\n",
        "\n",
        "cap.show()"
      ],
      "id": "Mx48nFiSUPGs"
    },
    {
      "cell_type": "code",
      "execution_count": 22,
      "metadata": {
        "id": "BaAeLt_iUPGs",
        "outputId": "f858db18-2435-4652-862f-34548fe6f5c7",
        "colab": {
          "base_uri": "https://localhost:8080/",
          "height": 74
        }
      },
      "outputs": [
        {
          "output_type": "display_data",
          "data": {
            "text/plain": [
              "<IPython.core.display.HTML object>"
            ],
            "text/html": [
              "<h1 style=\"color: maroon\">Magics are Magical ✨</h1>\n"
            ]
          },
          "metadata": {}
        }
      ],
      "source": [
        "%%html\n",
        "<h1 style=\"color: maroon\">Magics are Magical ✨</h1>"
      ],
      "id": "BaAeLt_iUPGs"
    },
    {
      "cell_type": "code",
      "execution_count": 23,
      "metadata": {
        "id": "JUH-38DyUPGs",
        "outputId": "d0febd84-3a1c-4b67-ecd3-a174e10cc310",
        "colab": {
          "base_uri": "https://localhost:8080/",
          "height": 100
        }
      },
      "outputs": [
        {
          "output_type": "display_data",
          "data": {
            "text/plain": [
              "<IPython.core.display.Markdown object>"
            ],
            "text/markdown": "# This is a Markdown cell inside code!\n**Bold text** and *italic* still work.\n"
          },
          "metadata": {}
        }
      ],
      "source": [
        "%%markdown\n",
        "# This is a Markdown cell inside code!\n",
        "**Bold text** and *italic* still work."
      ],
      "id": "JUH-38DyUPGs"
    },
    {
      "cell_type": "markdown",
      "metadata": {
        "id": "yo3Ee01TUPGs"
      },
      "source": [
        "## 7. Discover More"
      ],
      "id": "yo3Ee01TUPGs"
    },
    {
      "cell_type": "code",
      "execution_count": 24,
      "metadata": {
        "id": "G27tlC4NUPGs",
        "outputId": "9ad4db6a-ca37-41ac-a3bd-25e6de2e7270",
        "colab": {
          "base_uri": "https://localhost:8080/",
          "height": 1000
        }
      },
      "outputs": [
        {
          "output_type": "execute_result",
          "data": {
            "text/plain": [
              "Available line magics:\n",
              "%alias  %alias_magic  %autoawait  %autocall  %automagic  %autosave  %bookmark  %cat  %cd  %clear  %colors  %conda  %config  %connect_info  %cp  %debug  %dhist  %dirs  %doctest_mode  %ed  %edit  %env  %gui  %hist  %history  %killbgscripts  %ldir  %less  %lf  %lk  %ll  %load  %load_ext  %loadpy  %logoff  %logon  %logstart  %logstate  %logstop  %ls  %lsmagic  %lx  %macro  %magic  %man  %matplotlib  %mkdir  %more  %mv  %notebook  %page  %pastebin  %pdb  %pdef  %pdoc  %pfile  %pinfo  %pinfo2  %pip  %popd  %pprint  %precision  %prun  %psearch  %psource  %pushd  %pwd  %pycat  %pylab  %qtconsole  %quickref  %recall  %rehashx  %reload_ext  %rep  %rerun  %reset  %reset_selective  %rm  %rmdir  %run  %save  %sc  %set_env  %shell  %store  %sx  %system  %tb  %tensorflow_version  %time  %timeit  %unalias  %unload_ext  %who  %who_ls  %whos  %xdel  %xmode\n",
              "\n",
              "Available cell magics:\n",
              "%%!  %%HTML  %%SVG  %%bash  %%bigquery  %%capture  %%debug  %%file  %%html  %%javascript  %%js  %%latex  %%markdown  %%perl  %%prun  %%pypy  %%python  %%python2  %%python3  %%ruby  %%script  %%sh  %%shell  %%spanner_graph  %%svg  %%sx  %%system  %%time  %%timeit  %%writefile\n",
              "\n",
              "Automagic is ON, % prefix IS NOT needed for line magics."
            ],
            "application/json": {
              "line": {
                "automagic": "AutoMagics",
                "autocall": "AutoMagics",
                "alias_magic": "BasicMagics",
                "lsmagic": "BasicMagics",
                "magic": "BasicMagics",
                "page": "BasicMagics",
                "pprint": "BasicMagics",
                "colors": "BasicMagics",
                "xmode": "BasicMagics",
                "quickref": "BasicMagics",
                "doctest_mode": "BasicMagics",
                "gui": "BasicMagics",
                "precision": "BasicMagics",
                "notebook": "BasicMagics",
                "save": "CodeMagics",
                "pastebin": "CodeMagics",
                "loadpy": "CodeMagics",
                "load": "CodeMagics",
                "edit": "KernelMagics",
                "config": "ConfigMagics",
                "prun": "ExecutionMagics",
                "pdb": "ExecutionMagics",
                "debug": "ExecutionMagics",
                "tb": "ExecutionMagics",
                "run": "ExecutionMagics",
                "timeit": "ExecutionMagics",
                "time": "ExecutionMagics",
                "macro": "ExecutionMagics",
                "load_ext": "ExtensionMagics",
                "unload_ext": "ExtensionMagics",
                "reload_ext": "ExtensionMagics",
                "history": "HistoryMagics",
                "recall": "HistoryMagics",
                "rerun": "HistoryMagics",
                "logstart": "LoggingMagics",
                "logstop": "LoggingMagics",
                "logoff": "LoggingMagics",
                "logon": "LoggingMagics",
                "logstate": "LoggingMagics",
                "pinfo": "NamespaceMagics",
                "pinfo2": "NamespaceMagics",
                "pdef": "NamespaceMagics",
                "pdoc": "NamespaceMagics",
                "psource": "NamespaceMagics",
                "pfile": "NamespaceMagics",
                "psearch": "NamespaceMagics",
                "who_ls": "NamespaceMagics",
                "who": "NamespaceMagics",
                "whos": "NamespaceMagics",
                "reset": "NamespaceMagics",
                "reset_selective": "NamespaceMagics",
                "xdel": "NamespaceMagics",
                "alias": "OSMagics",
                "unalias": "OSMagics",
                "rehashx": "OSMagics",
                "pwd": "OSMagics",
                "cd": "OSMagics",
                "env": "OSMagics",
                "set_env": "OSMagics",
                "pushd": "OSMagics",
                "popd": "OSMagics",
                "dirs": "OSMagics",
                "dhist": "OSMagics",
                "sc": "OSMagics",
                "sx": "OSMagics",
                "system": "OSMagics",
                "bookmark": "OSMagics",
                "pycat": "OSMagics",
                "pip": "Other",
                "conda": "PackagingMagics",
                "matplotlib": "PylabMagics",
                "pylab": "PylabMagics",
                "killbgscripts": "ScriptMagics",
                "autoawait": "AsyncMagics",
                "ed": "Other",
                "hist": "Other",
                "rep": "Other",
                "clear": "KernelMagics",
                "less": "KernelMagics",
                "more": "KernelMagics",
                "man": "KernelMagics",
                "connect_info": "KernelMagics",
                "qtconsole": "KernelMagics",
                "autosave": "KernelMagics",
                "mkdir": "Other",
                "rmdir": "Other",
                "mv": "Other",
                "rm": "Other",
                "cp": "Other",
                "cat": "Other",
                "ls": "Other",
                "ll": "Other",
                "lf": "Other",
                "lk": "Other",
                "ldir": "Other",
                "lx": "Other",
                "store": "StoreMagics",
                "shell": "Other",
                "tensorflow_version": "Other"
              },
              "cell": {
                "js": "DisplayMagics",
                "javascript": "DisplayMagics",
                "latex": "DisplayMagics",
                "svg": "DisplayMagics",
                "html": "DisplayMagics",
                "markdown": "DisplayMagics",
                "prun": "ExecutionMagics",
                "debug": "ExecutionMagics",
                "timeit": "ExecutionMagics",
                "time": "ExecutionMagics",
                "capture": "ExecutionMagics",
                "sx": "OSMagics",
                "system": "OSMagics",
                "!": "OSMagics",
                "writefile": "OSMagics",
                "script": "ScriptMagics",
                "sh": "Other",
                "bash": "Other",
                "perl": "Other",
                "ruby": "Other",
                "python": "Other",
                "python2": "Other",
                "python3": "Other",
                "pypy": "Other",
                "SVG": "Other",
                "HTML": "Other",
                "file": "Other",
                "bigquery": "Other",
                "spanner_graph": "Other",
                "shell": "Other"
              }
            }
          },
          "metadata": {},
          "execution_count": 24
        }
      ],
      "source": [
        "%lsmagic"
      ],
      "id": "G27tlC4NUPGs"
    },
    {
      "cell_type": "code",
      "execution_count": 29,
      "metadata": {
        "id": "841595qbUPGs",
        "outputId": "52adf385-5a10-416d-c2f0-a02e380512d9",
        "colab": {
          "base_uri": "https://localhost:8080/"
        }
      },
      "outputs": [
        {
          "output_type": "stream",
          "name": "stdout",
          "text": [
            "Variable   Type          Data/Info\n",
            "----------------------------------\n",
            "a          int           42\n",
            "b          list          n=3\n",
            "c          dict          n=1\n",
            "cap        CapturedIO    This will not display rig<...> not display right away\\n\n",
            "i          int           999999\n",
            "total      int           499999500000\n"
          ]
        },
        {
          "output_type": "stream",
          "name": "stderr",
          "text": [
            "UsageError: Line magic function `%%html` not found.\n"
          ]
        }
      ],
      "source": [
        "%timeit?\n",
        "%whos\n",
        "%%html"
      ],
      "id": "841595qbUPGs"
    },
    {
      "cell_type": "markdown",
      "metadata": {
        "id": "8iLhPQUjUPGs"
      },
      "source": [
        "✅ **Try It Yourself**:  \n",
        "- Use `%timeit` to compare a list comprehension `[x**2 for x in range(1000)]` vs a generator `(x**2 for x in range(1000))`.  \n",
        "- Use `%whos` after defining some variables to see their types.  \n",
        "- Use `%%html` to make your own banner."
      ],
      "id": "8iLhPQUjUPGs"
    }
  ],
  "metadata": {
    "kernelspec": {
      "display_name": "env",
      "language": "python",
      "name": "python3"
    },
    "language_info": {
      "codemirror_mode": {
        "name": "ipython",
        "version": 3
      },
      "file_extension": ".py",
      "mimetype": "text/x-python",
      "name": "python",
      "nbconvert_exporter": "python",
      "pygments_lexer": "ipython3",
      "version": "3.13.7"
    },
    "colab": {
      "provenance": [],
      "include_colab_link": true
    }
  },
  "nbformat": 4,
  "nbformat_minor": 5
}