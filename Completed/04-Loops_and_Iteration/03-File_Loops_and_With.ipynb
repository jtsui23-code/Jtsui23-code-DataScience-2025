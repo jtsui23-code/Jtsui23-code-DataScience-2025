{
  "cells": [
    {
      "cell_type": "markdown",
      "metadata": {
        "id": "view-in-github",
        "colab_type": "text"
      },
      "source": [
        "<a href=\"https://colab.research.google.com/github/jtsui23-code/Jtsui23-code-DataScience-2025/blob/main/Completed/04-Loops_and_Iteration/03-File_Loops_and_With.ipynb\" target=\"_parent\"><img src=\"https://colab.research.google.com/assets/colab-badge.svg\" alt=\"Open In Colab\"/></a>"
      ]
    },
    {
      "cell_type": "markdown",
      "id": "2843d4ba",
      "metadata": {
        "id": "2843d4ba"
      },
      "source": [
        "# 📘 03 - File Loops and `with`\n",
        "\n",
        "Use `with open(...)` to read files and process content."
      ]
    },
    {
      "cell_type": "markdown",
      "id": "4d270565",
      "metadata": {
        "id": "4d270565"
      },
      "source": [
        "## ✅ Learning Goals\n",
        "- Open and read files using `with`\n",
        "- Loop over lines in a file\n",
        "- Use `.strip()` and `.split()` to process text"
      ]
    },
    {
      "cell_type": "code",
      "execution_count": 1,
      "id": "4ac4df0a",
      "metadata": {
        "id": "4ac4df0a",
        "outputId": "40745581-c8f6-42fd-eb3d-681ca9d7ce1d",
        "colab": {
          "base_uri": "https://localhost:8080/",
          "height": 200
        }
      },
      "outputs": [
        {
          "output_type": "error",
          "ename": "FileNotFoundError",
          "evalue": "[Errno 2] No such file or directory: 'sample.txt'",
          "traceback": [
            "\u001b[0;31m---------------------------------------------------------------------------\u001b[0m",
            "\u001b[0;31mFileNotFoundError\u001b[0m                         Traceback (most recent call last)",
            "\u001b[0;32m/tmp/ipython-input-3212254660.py\u001b[0m in \u001b[0;36m<cell line: 0>\u001b[0;34m()\u001b[0m\n\u001b[1;32m      1\u001b[0m \u001b[0;31m# 📝 Sample file read\u001b[0m\u001b[0;34m\u001b[0m\u001b[0;34m\u001b[0m\u001b[0m\n\u001b[0;32m----> 2\u001b[0;31m \u001b[0;32mwith\u001b[0m \u001b[0mopen\u001b[0m\u001b[0;34m(\u001b[0m\u001b[0;34m'sample.txt'\u001b[0m\u001b[0;34m,\u001b[0m \u001b[0;34m'r'\u001b[0m\u001b[0;34m)\u001b[0m \u001b[0;32mas\u001b[0m \u001b[0mfile\u001b[0m\u001b[0;34m:\u001b[0m\u001b[0;34m\u001b[0m\u001b[0;34m\u001b[0m\u001b[0m\n\u001b[0m\u001b[1;32m      3\u001b[0m     \u001b[0;32mfor\u001b[0m \u001b[0mline\u001b[0m \u001b[0;32min\u001b[0m \u001b[0mfile\u001b[0m\u001b[0;34m:\u001b[0m\u001b[0;34m\u001b[0m\u001b[0;34m\u001b[0m\u001b[0m\n\u001b[1;32m      4\u001b[0m         \u001b[0mprint\u001b[0m\u001b[0;34m(\u001b[0m\u001b[0mline\u001b[0m\u001b[0;34m.\u001b[0m\u001b[0mstrip\u001b[0m\u001b[0;34m(\u001b[0m\u001b[0;34m)\u001b[0m\u001b[0;34m)\u001b[0m\u001b[0;34m\u001b[0m\u001b[0;34m\u001b[0m\u001b[0m\n",
            "\u001b[0;31mFileNotFoundError\u001b[0m: [Errno 2] No such file or directory: 'sample.txt'"
          ]
        }
      ],
      "source": [
        "# 📝 Sample file read\n",
        "with open('sample.txt', 'r') as file:\n",
        "    for line in file:\n",
        "        print(line.strip())"
      ]
    },
    {
      "cell_type": "code",
      "execution_count": null,
      "id": "4f430e6d",
      "metadata": {
        "id": "4f430e6d"
      },
      "outputs": [],
      "source": [
        "# 🔍 Process each line\n",
        "with open('sample.txt', 'r') as f:\n",
        "    for line in f:\n",
        "        parts = line.strip().split(',')\n",
        "        print('Parts:', parts)"
      ]
    },
    {
      "cell_type": "markdown",
      "id": "c5f556e4",
      "metadata": {
        "id": "c5f556e4"
      },
      "source": [
        "### ✏️ Your Turn\n",
        "Open a text file and print all lines that contain more than 3 words."
      ]
    },
    {
      "cell_type": "code",
      "execution_count": 11,
      "id": "0c72a05f",
      "metadata": {
        "id": "0c72a05f",
        "outputId": "93dff434-6b86-4bf6-ce8f-1f194cd37bbc",
        "colab": {
          "base_uri": "https://localhost:8080/"
        }
      },
      "outputs": [
        {
          "output_type": "stream",
          "name": "stdout",
          "text": [
            "Hello\n",
            "\n",
            "world\n",
            "\n",
            "today\n"
          ]
        }
      ],
      "source": [
        "# Tip: use `len(line.split()) > 3` to check\n",
        "with open('sample_data/sample.txt', 'r') as f:\n",
        "    for line in f:\n",
        "        if len(line) > 3:\n",
        "            print(line)"
      ]
    }
  ],
  "metadata": {
    "colab": {
      "provenance": [],
      "include_colab_link": true
    },
    "language_info": {
      "name": "python"
    },
    "kernelspec": {
      "name": "python3",
      "display_name": "Python 3"
    }
  },
  "nbformat": 4,
  "nbformat_minor": 5
}