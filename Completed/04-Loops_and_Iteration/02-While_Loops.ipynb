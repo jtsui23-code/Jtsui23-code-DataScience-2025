{
  "cells": [
    {
      "cell_type": "markdown",
      "metadata": {
        "id": "view-in-github",
        "colab_type": "text"
      },
      "source": [
        "<a href=\"https://colab.research.google.com/github/jtsui23-code/Jtsui23-code-DataScience-2025/blob/main/Completed/04-Loops_and_Iteration/02-While_Loops.ipynb\" target=\"_parent\"><img src=\"https://colab.research.google.com/assets/colab-badge.svg\" alt=\"Open In Colab\"/></a>"
      ]
    },
    {
      "cell_type": "markdown",
      "id": "d0fe0fb4",
      "metadata": {
        "id": "d0fe0fb4"
      },
      "source": [
        "# 📘 02 - While Loops\n",
        "\n",
        "Learn how to repeat logic using conditions."
      ]
    },
    {
      "cell_type": "markdown",
      "id": "72469f87",
      "metadata": {
        "id": "72469f87"
      },
      "source": [
        "## ✅ Learning Goals\n",
        "- Use `while` with a condition\n",
        "- Understand infinite loops and loop control"
      ]
    },
    {
      "cell_type": "code",
      "execution_count": 1,
      "id": "a73a22aa",
      "metadata": {
        "id": "a73a22aa",
        "outputId": "8e6ff812-3a1b-4cfb-872b-47e0c12261f5",
        "colab": {
          "base_uri": "https://localhost:8080/"
        }
      },
      "outputs": [
        {
          "output_type": "stream",
          "name": "stdout",
          "text": [
            "Count: 1\n",
            "Count: 2\n",
            "Count: 3\n",
            "Count: 4\n",
            "Count: 5\n"
          ]
        }
      ],
      "source": [
        "# 🔁 Count up to 5\n",
        "counter = 1\n",
        "while counter <= 5:\n",
        "    print('Count:', counter)\n",
        "    counter += 1"
      ]
    },
    {
      "cell_type": "code",
      "execution_count": 2,
      "id": "f219e7e8",
      "metadata": {
        "id": "f219e7e8",
        "outputId": "8d016ffc-de73-4c17-c256-c12f6659be8f",
        "colab": {
          "base_uri": "https://localhost:8080/"
        }
      },
      "outputs": [
        {
          "output_type": "stream",
          "name": "stdout",
          "text": [
            "x is 0\n",
            "x is 1\n",
            "x is 2\n"
          ]
        }
      ],
      "source": [
        "# 🚫 Avoid infinite loop\n",
        "x = 0\n",
        "while x < 3:\n",
        "    print('x is', x)\n",
        "    x += 1"
      ]
    },
    {
      "cell_type": "code",
      "execution_count": 3,
      "id": "c4b457cd",
      "metadata": {
        "id": "c4b457cd",
        "outputId": "32b85a9a-cd67-46f5-8a74-6523688e0a5a",
        "colab": {
          "base_uri": "https://localhost:8080/"
        }
      },
      "outputs": [
        {
          "output_type": "stream",
          "name": "stdout",
          "text": [
            "1\n",
            "2\n",
            "4\n",
            "5\n"
          ]
        }
      ],
      "source": [
        "# ⚠️ Break and continue\n",
        "n = 0\n",
        "while True:\n",
        "    n += 1\n",
        "    if n == 3:\n",
        "        continue\n",
        "    if n == 6:\n",
        "        break\n",
        "    print(n)"
      ]
    },
    {
      "cell_type": "markdown",
      "id": "f238b0da",
      "metadata": {
        "id": "f238b0da"
      },
      "source": [
        "### ✏️ Your Turn\n",
        "Use a while loop to print numbers 10 to 1 in reverse."
      ]
    },
    {
      "cell_type": "code",
      "source": [
        "counter = 10\n",
        "\n",
        "while (counter >= 1):\n",
        "  print(counter)\n",
        "  counter -= 1"
      ],
      "metadata": {
        "id": "MAONyA8uGanL",
        "outputId": "1944154d-c1e3-4a9e-9c39-865b64a1dc28",
        "colab": {
          "base_uri": "https://localhost:8080/"
        }
      },
      "id": "MAONyA8uGanL",
      "execution_count": 5,
      "outputs": [
        {
          "output_type": "stream",
          "name": "stdout",
          "text": [
            "10\n",
            "9\n",
            "8\n",
            "7\n",
            "6\n",
            "5\n",
            "4\n",
            "3\n",
            "2\n",
            "1\n"
          ]
        }
      ]
    }
  ],
  "metadata": {
    "colab": {
      "provenance": [],
      "include_colab_link": true
    },
    "language_info": {
      "name": "python"
    },
    "kernelspec": {
      "name": "python3",
      "display_name": "Python 3"
    }
  },
  "nbformat": 4,
  "nbformat_minor": 5
}